{
 "cells": [
  {
   "cell_type": "code",
   "execution_count": 1,
   "metadata": {},
   "outputs": [],
   "source": [
    "%matplotlib inline\n",
    "import matplotlib.pyplot as plt\n",
    "import numpy as np"
   ]
  },
  {
   "cell_type": "markdown",
   "metadata": {},
   "source": [
    "# Deep learning approach: sklearn MLP\n",
    "\n",
    "Ways to frame problem:\n",
    "\n",
    "- Recover colourmap from pseudocolour, then lookup data from code book.\n",
    "- Recover data from pseudocolour directly. \n",
    "\n",
    "## Make map data"
   ]
  },
  {
   "cell_type": "code",
   "execution_count": 2,
   "metadata": {},
   "outputs": [],
   "source": [
    "def kernel(sizex, sizey):\n",
    "    x, y = np.mgrid[-sizex:sizex+1, -sizey:sizey+1]\n",
    "    g = np.exp(-0.333*(x**2/float(sizex)+y**2/float(sizey)))\n",
    "    return g / g.sum()"
   ]
  },
  {
   "cell_type": "code",
   "execution_count": 3,
   "metadata": {},
   "outputs": [],
   "source": [
    "import scipy.signal\n",
    "\n",
    "def make_map(n, nx=100, ny=100, kernel_size=None, seed=None):\n",
    "\n",
    "    imgs = []\n",
    "    for i in range(n):\n",
    "        rng = np.random.RandomState(seed=seed)\n",
    "        z = rng.rand(nx, ny)\n",
    "        kernel_size = kernel_size or (30, 30)\n",
    "        f = kernel(*kernel_size)\n",
    "\n",
    "        z = scipy.signal.convolve(z, f, mode='valid')\n",
    "        z = (z - z.min())/(z.max() - z.min())\n",
    "        imgs.append(z)\n",
    "    \n",
    "    return np.stack(imgs)"
   ]
  },
  {
   "cell_type": "code",
   "execution_count": 4,
   "metadata": {},
   "outputs": [],
   "source": [
    "n = 1600\n",
    "data = make_map(n, kernel_size=(29,29))\n",
    "\n",
    "nv = 20\n",
    "data_val = make_map(nv, kernel_size=(29,29))"
   ]
  },
  {
   "cell_type": "code",
   "execution_count": 5,
   "metadata": {},
   "outputs": [
    {
     "data": {
      "text/plain": [
       "(1600, 42, 42)"
      ]
     },
     "execution_count": 5,
     "metadata": {},
     "output_type": "execute_result"
    }
   ],
   "source": [
    "data.shape"
   ]
  },
  {
   "cell_type": "markdown",
   "metadata": {},
   "source": [
    "## Make seismic data"
   ]
  },
  {
   "cell_type": "code",
   "execution_count": 264,
   "metadata": {},
   "outputs": [],
   "source": [
    "raw = np.load(\"/home/matt/Dropbox/dev/geocomp-19/data/F3_volume_3x3_16bit.npy\")"
   ]
  },
  {
   "cell_type": "code",
   "execution_count": 344,
   "metadata": {},
   "outputs": [],
   "source": [
    "def rms(arr):\n",
    "    epsilon=1e-6\n",
    "    return np.sqrt(epsilon + np.sum(arr**2)/arr.size)"
   ]
  },
  {
   "cell_type": "code",
   "execution_count": 345,
   "metadata": {},
   "outputs": [],
   "source": [
    "def make_seismic(raw, n=1600, s=41):\n",
    "    slices = []\n",
    "    while len(slices) < n:\n",
    "        x, y, z = [np.random.randint(0, h) for h in np.array(raw.shape)-np.array([s, 0, s])]\n",
    "        this = raw[x:x+s, y, z:z+s]\n",
    "        if rms(this) < 1:\n",
    "            # Make sure it's not blank\n",
    "            continue\n",
    "        slices.append(this.T)\n",
    "    data = np.array(slices, dtype=np.int64)\n",
    "\n",
    "    mi, ma = np.percentile(data, (0.5, 99.5))\n",
    "    data[data < mi] = mi\n",
    "    data[data > ma] = ma\n",
    "\n",
    "    data[np.isnan(data)] = 0\n",
    "    mi, ma = np.min(data), np.max(data)\n",
    "    data = (data - mi) / (ma - mi)\n",
    "\n",
    "    data = data.astype(np.float32)\n",
    "    return data"
   ]
  },
  {
   "cell_type": "code",
   "execution_count": 416,
   "metadata": {},
   "outputs": [
    {
     "name": "stderr",
     "output_type": "stream",
     "text": [
      "/home/matt/anaconda3/envs/deepl/lib/python3.6/site-packages/ipykernel_launcher.py:3: RuntimeWarning: invalid value encountered in sqrt\n",
      "  This is separate from the ipykernel package so we can avoid doing imports until\n"
     ]
    }
   ],
   "source": [
    "n = 2500\n",
    "data = make_seismic(raw, n=n)"
   ]
  },
  {
   "cell_type": "code",
   "execution_count": 381,
   "metadata": {},
   "outputs": [
    {
     "data": {
      "text/plain": [
       "(0.0, 1.0)"
      ]
     },
     "execution_count": 381,
     "metadata": {},
     "output_type": "execute_result"
    }
   ],
   "source": [
    "np.min(data), np.max(data)"
   ]
  },
  {
   "cell_type": "code",
   "execution_count": 382,
   "metadata": {},
   "outputs": [
    {
     "data": {
      "text/plain": [
       "<matplotlib.image.AxesImage at 0x7f0e98a41a90>"
      ]
     },
     "execution_count": 382,
     "metadata": {},
     "output_type": "execute_result"
    },
    {
     "data": {
      "image/png": "[encoded data removed]",
      "text/plain": [
       "<Figure size 432x288 with 1 Axes>"
      ]
     },
     "metadata": {},
     "output_type": "display_data"
    }
   ],
   "source": [
    "plt.imshow(data[313])"
   ]
  },
  {
   "cell_type": "code",
   "execution_count": 429,
   "metadata": {},
   "outputs": [
    {
     "name": "stderr",
     "output_type": "stream",
     "text": [
      "/home/matt/anaconda3/envs/deepl/lib/python3.6/site-packages/ipykernel_launcher.py:3: RuntimeWarning: invalid value encountered in sqrt\n",
      "  This is separate from the ipykernel package so we can avoid doing imports until\n"
     ]
    }
   ],
   "source": [
    "nv = 48\n",
    "data_val = make_seismic(raw, n=nv)"
   ]
  },
  {
   "cell_type": "markdown",
   "metadata": {},
   "source": [
    "## Make `X` and `y`"
   ]
  },
  {
   "cell_type": "code",
   "execution_count": 25,
   "metadata": {},
   "outputs": [],
   "source": [
    "CMAPS = {'Perceptually Uniform Sequential':\n",
    "                            ['viridis', 'inferno', 'plasma', 'magma'],\n",
    "         'Sequential':     ['Blues', 'BuGn', 'BuPu',\n",
    "                             'GnBu', 'Greens', 'Greys', 'Oranges', 'OrRd',\n",
    "                             'PuBu', 'PuBuGn', 'PuRd', 'Purples', 'RdPu',\n",
    "                             'Reds', 'YlGn', 'YlGnBu', 'YlOrBr', 'YlOrRd',],\n",
    "         'Sequential2':     ['afmhot', 'autumn', 'bone', 'cool',\n",
    "                             'copper', 'gist_heat', 'gray', 'hot',\n",
    "                             'pink', 'spring', 'summer', 'winter'],\n",
    "         'Diverging':      ['BrBG', 'bwr', 'coolwarm', 'PiYG', 'PRGn', 'PuOr',\n",
    "                             'RdBu', 'RdGy', 'RdYlBu', 'RdYlGn', 'Spectral',\n",
    "                             'seismic'],\n",
    "         'Seismic':      ['bwr', 'RdBu', 'RdGy', 'Greys', 'gray', 'Spectral',\n",
    "                             'seismic', 'bone', 'bone_r',\n",
    "                          'bwr_r', 'RdBu_r', 'RdGy_r', 'Greys_r', 'gray_r', 'seismic_r'],\n",
    "         'SeismicDiv':      ['bwr', 'RdBu', 'RdGy', 'Spectral','seismic', \n",
    "                          'bwr_r', 'RdBu_r', 'RdGy_r', 'Spectral_r', 'seismic_r'],\n",
    "         'SeismicRamp':      ['Greys', 'gray_r', 'bone_r', 'Blues'],\n",
    "         'Qualitative':    ['Accent', 'Dark2', 'Paired', 'Pastel1',\n",
    "                             'Pastel2', 'Set1', 'Set2', 'Set3'],\n",
    "         'Miscellaneous':  ['gist_earth', 'terrain', 'ocean', 'gist_stern',\n",
    "                             'brg', 'CMRmap', 'cubehelix',\n",
    "                             'gnuplot', 'gnuplot2', 'gist_ncar',\n",
    "                             'nipy_spectral', 'jet', 'rainbow',\n",
    "                             'gist_rainbow', 'hsv', 'flag', 'prism'],\n",
    "         'Rainbow':  ['nipy_spectral', 'jet',\n",
    "                             'gist_rainbow', 'hsv'],\n",
    "        }"
   ]
  },
  {
   "cell_type": "code",
   "execution_count": 319,
   "metadata": {},
   "outputs": [],
   "source": [
    "import os\n",
    "import logging\n",
    "from matplotlib import cm\n",
    "from functools import reduce\n",
    "\n",
    "logging.basicConfig(level='INFO')\n",
    "\n",
    "def save_image_files(y, path:str) -> None:\n",
    "    \"\"\"\n",
    "    Make and save an image (via a matplotlib figure)\n",
    "    for every image (first dimension slice) of y.\n",
    "    \n",
    "    Produces numbered PNG files in the path specified.\n",
    "    \n",
    "    Returns:\n",
    "        None. Saves files as side-effect.\n",
    "    \"\"\"\n",
    "    for i, img in enumerate(y):\n",
    "        fig = plt.figure(frameon=False)\n",
    "        fig.set_size_inches(5,5)\n",
    "\n",
    "        ax = plt.Axes(fig, [0., 0., 1., 1.])\n",
    "        ax.set_axis_off()\n",
    "        fig.add_axes(ax)\n",
    "\n",
    "        # Note: interpolation introduces new colours.\n",
    "        plt.imshow(img, cmap=\"jet\", aspect='auto', interpolation=\"bicubic\")\n",
    "        \n",
    "        if path is None:\n",
    "            path = \".\"\n",
    "        fname = os.path.join(path, f'img_{i:03d}.png')\n",
    "        fig.savefig(fname, dpi=100)\n",
    "        plt.close()\n",
    "        logging.info(f\"Saved {fname}\")\n",
    "    return\n",
    "\n",
    "def make_pseudo(data, cmap:str='viridis', steps:int=128):\n",
    "    cmap = cm.get_cmap(cmap)\n",
    "    colours = cmap(np.linspace(0, 1, steps))[..., :3]\n",
    "    pseudocolour = cmap(data)[..., :3]\n",
    "    return pseudocolour, colours\n",
    "\n",
    "def make_X_and_y(data,\n",
    "                 cmap_group:str='Perceptually Uniform Sequential',\n",
    "                 cmap_except:str='Qualitative',\n",
    "                 steps:int=128) -> tuple:\n",
    "    \"\"\"\n",
    "    Make a 3-channel pseudo-colour array for each\n",
    "    slice in y, using the specified colourmap.\n",
    "    \n",
    "    Args:\n",
    "        data (ndarray): M x H x W array for M examples.\n",
    "        cmap_group (str): Which group of cmaps to use. (Or\n",
    "            can be a single cmap.)\n",
    "        steps (int): The number of steps.\n",
    "    \n",
    "    Returns:\n",
    "        tuple: Two ndarrays, the pseudocolour images,\n",
    "            and the code book.\n",
    "    \"\"\"\n",
    "    if cmap_group.lower() == 'all':\n",
    "        cmaps = reduce(lambda x, y: x + y, CMAPS.values())\n",
    "    else:\n",
    "        cmaps = CMAPS.get(cmap_group)\n",
    "        \n",
    "    cmaps = [c for c in cmaps if c not in CMAPS.get(cmap_except)]\n",
    "    \n",
    "    pseudos, colours = [], []\n",
    "    for d in data:\n",
    "        try:\n",
    "            cmap = np.random.choice(cmaps)\n",
    "        except:\n",
    "            cmap = cmap_group\n",
    "        cmap = cm.get_cmap(cmap)\n",
    "    \n",
    "        p, c = make_pseudo(d, cmap, steps)\n",
    "        \n",
    "        pseudos.append(p)\n",
    "        colours.append(c)\n",
    "        \n",
    "    return np.stack(pseudos), np.stack(colours)"
   ]
  },
  {
   "cell_type": "code",
   "execution_count": 8,
   "metadata": {},
   "outputs": [],
   "source": [
    "def display_slices(data):\n",
    "    fig, axs = plt.subplots(ncols=6, nrows=2, figsize=(12,4))\n",
    "    print(axs.shape)\n",
    "    for ax, d in zip(axs.flatten(), data):\n",
    "        ax.imshow(d, aspect='auto')\n",
    "        ax.axis('off')\n",
    "    plt.show()"
   ]
  },
  {
   "cell_type": "code",
   "execution_count": 9,
   "metadata": {},
   "outputs": [],
   "source": [
    "def luminance(arr):\n",
    "    r, g, b = arr.T\n",
    "    return np.sqrt(0.299 * r**2. + 0.587 * g**2. + 0.114 * b**2.)"
   ]
  },
  {
   "cell_type": "code",
   "execution_count": 489,
   "metadata": {},
   "outputs": [],
   "source": [
    "steps = 24\n",
    "group = 'SeismicRamp'\n",
    "\n",
    "X, y = make_X_and_y(data, cmap_group=group, steps=steps)"
   ]
  },
  {
   "cell_type": "code",
   "execution_count": 490,
   "metadata": {},
   "outputs": [
    {
     "data": {
      "text/plain": [
       "((2500, 41, 41, 3), (2500, 24, 3))"
      ]
     },
     "execution_count": 490,
     "metadata": {},
     "output_type": "execute_result"
    }
   ],
   "source": [
    "X.shape, y.shape"
   ]
  },
  {
   "cell_type": "code",
   "execution_count": 491,
   "metadata": {},
   "outputs": [
    {
     "name": "stdout",
     "output_type": "stream",
     "text": [
      "(2, 6)\n"
     ]
    },
    {
     "data": {
      "image/png": "[encoded data removed]",
      "text/plain": [
       "<Figure size 864x288 with 12 Axes>"
      ]
     },
     "metadata": {},
     "output_type": "display_data"
    }
   ],
   "source": [
    "display_slices(X)"
   ]
  },
  {
   "cell_type": "code",
   "execution_count": 492,
   "metadata": {},
   "outputs": [
    {
     "name": "stdout",
     "output_type": "stream",
     "text": [
      "(2, 6)\n"
     ]
    },
    {
     "data": {
      "image/png": "[encoded data removed]",
      "text/plain": [
       "<Figure size 864x288 with 12 Axes>"
      ]
     },
     "metadata": {},
     "output_type": "display_data"
    }
   ],
   "source": [
    "display_slices(y[:, :, None, :])"
   ]
  },
  {
   "cell_type": "code",
   "execution_count": 493,
   "metadata": {},
   "outputs": [
    {
     "data": {
      "text/plain": [
       "<matplotlib.image.AxesImage at 0x7f0e9b13b9e8>"
      ]
     },
     "execution_count": 493,
     "metadata": {},
     "output_type": "execute_result"
    },
    {
     "data": {
      "image/png": "[encoded data removed]",
      "text/plain": [
       "<Figure size 432x288 with 1 Axes>"
      ]
     },
     "metadata": {},
     "output_type": "display_data"
    }
   ],
   "source": [
    "plt.imshow(X[3])"
   ]
  },
  {
   "cell_type": "markdown",
   "metadata": {},
   "source": [
    "## Feature engineering\n",
    "\n",
    "This is a sequence learning problem.\n",
    "\n",
    "Want to constrain the output to only know about the colours in the training data.\n",
    "\n",
    "Feels like we should be able to provide the training images and a code book, and ask only for the order of the colours in the image.\n",
    "\n",
    "Options:\n",
    "\n",
    "- Naive neighbours with shifts\n",
    "- LSTM or spatial LSTM?\n",
    "- Do a classification first, into discrete colours. Then give those colours to an ordering network.\n",
    "- 'Lock' the colours together into a generated number or triple... but would have to span the full scale otheriw seit's no longer a regression problem. (I doubt this would work)\n",
    "\n",
    "Another thought: use HLS space, or some other representation?"
   ]
  },
  {
   "cell_type": "code",
   "execution_count": 494,
   "metadata": {},
   "outputs": [
    {
     "data": {
      "text/plain": [
       "(2500, 41, 41, 3)"
      ]
     },
     "execution_count": 494,
     "metadata": {},
     "output_type": "execute_result"
    }
   ],
   "source": [
    "X.shape"
   ]
  },
  {
   "cell_type": "code",
   "execution_count": 495,
   "metadata": {},
   "outputs": [],
   "source": [
    "Xo = X[:, :-1, :-1, :]\n",
    "Xs = X[:, 1:, 1:, :]"
   ]
  },
  {
   "cell_type": "code",
   "execution_count": 496,
   "metadata": {},
   "outputs": [],
   "source": [
    "assert Xo.shape == Xs.shape"
   ]
  },
  {
   "cell_type": "code",
   "execution_count": 497,
   "metadata": {},
   "outputs": [
    {
     "data": {
      "text/plain": [
       "(2500, 3200, 3)"
      ]
     },
     "execution_count": 497,
     "metadata": {},
     "output_type": "execute_result"
    }
   ],
   "source": [
    "X = np.hstack([Xo.reshape((n, -1, 3)), Xs.reshape((n, -1, 3))])\n",
    "\n",
    "X.shape"
   ]
  },
  {
   "cell_type": "code",
   "execution_count": 498,
   "metadata": {},
   "outputs": [],
   "source": [
    "X_val, y_val = make_X_and_y(data_val, cmap_group=group, steps=steps)\n",
    "\n",
    "Xo = X_val[:, :-1, :-1, :]\n",
    "Xs = X_val[:, 1:, 1:, :]\n",
    "\n",
    "X_val = np.hstack([Xo.reshape((nv, -1, 3)), Xs.reshape((nv, -1, 3))])"
   ]
  },
  {
   "cell_type": "code",
   "execution_count": 499,
   "metadata": {},
   "outputs": [
    {
     "data": {
      "text/plain": [
       "(48, 3200, 3)"
      ]
     },
     "execution_count": 499,
     "metadata": {},
     "output_type": "execute_result"
    }
   ],
   "source": [
    "X_val.shape"
   ]
  },
  {
   "cell_type": "markdown",
   "metadata": {},
   "source": [
    "## Training\n",
    "\n",
    "### Deep neural net"
   ]
  },
  {
   "cell_type": "code",
   "execution_count": 500,
   "metadata": {},
   "outputs": [],
   "source": [
    "n = X.shape[0]\n",
    "assert n == y.shape[0]\n",
    "\n",
    "X_train, y_train = X.reshape((n, -1)), y.reshape((n, -1))"
   ]
  },
  {
   "cell_type": "code",
   "execution_count": 501,
   "metadata": {},
   "outputs": [],
   "source": [
    "X_val, y_val = X_val.reshape((nv, -1)), y_val.reshape((nv, -1))"
   ]
  },
  {
   "cell_type": "code",
   "execution_count": 502,
   "metadata": {},
   "outputs": [],
   "source": [
    "from sklearn.neural_network import MLPRegressor\n",
    "\n",
    "hidden = [\n",
    "    6*steps,\n",
    "    12*steps,\n",
    "    6*steps,\n",
    "    ]\n",
    "\n",
    "nn = MLPRegressor(hidden_layer_sizes=hidden,\n",
    "                  max_iter=10*n,\n",
    "                  random_state=42,\n",
    "                 )"
   ]
  },
  {
   "cell_type": "code",
   "execution_count": 503,
   "metadata": {},
   "outputs": [
    {
     "data": {
      "text/plain": [
       "MLPRegressor(activation='relu', alpha=0.0001, batch_size='auto', beta_1=0.9,\n",
       "       beta_2=0.999, early_stopping=False, epsilon=1e-08,\n",
       "       hidden_layer_sizes=[144, 288, 144], learning_rate='constant',\n",
       "       learning_rate_init=0.001, max_iter=25000, momentum=0.9,\n",
       "       nesterovs_momentum=True, power_t=0.5, random_state=42, shuffle=True,\n",
       "       solver='adam', tol=0.0001, validation_fraction=0.1, verbose=False,\n",
       "       warm_start=False)"
      ]
     },
     "execution_count": 503,
     "metadata": {},
     "output_type": "execute_result"
    }
   ],
   "source": [
    "nn.fit(X_train, y_train)"
   ]
  },
  {
   "cell_type": "code",
   "execution_count": 504,
   "metadata": {},
   "outputs": [
    {
     "data": {
      "text/plain": [
       "((48, 9600), (2500, 9600))"
      ]
     },
     "execution_count": 504,
     "metadata": {},
     "output_type": "execute_result"
    }
   ],
   "source": [
    "X_val.shape, X_train.shape"
   ]
  },
  {
   "cell_type": "code",
   "execution_count": 505,
   "metadata": {},
   "outputs": [],
   "source": [
    "y_pred = nn.predict(X_val)"
   ]
  },
  {
   "cell_type": "code",
   "execution_count": 506,
   "metadata": {},
   "outputs": [
    {
     "name": "stdout",
     "output_type": "stream",
     "text": [
      "(2, 6)\n"
     ]
    },
    {
     "data": {
      "image/png": "[encoded data removed]",
      "text/plain": [
       "<Figure size 864x288 with 12 Axes>"
      ]
     },
     "metadata": {},
     "output_type": "display_data"
    }
   ],
   "source": [
    "display_slices(y_val.reshape((nv, -1, 3))[:, :, None, :])"
   ]
  },
  {
   "cell_type": "code",
   "execution_count": 507,
   "metadata": {},
   "outputs": [
    {
     "name": "stdout",
     "output_type": "stream",
     "text": [
      "(2, 6)\n"
     ]
    },
    {
     "data": {
      "image/png": "[encoded data removed]",
      "text/plain": [
       "<Figure size 864x288 with 12 Axes>"
      ]
     },
     "metadata": {},
     "output_type": "display_data"
    }
   ],
   "source": [
    "y_pred[y_pred < 0] = 0\n",
    "y_pred[y_pred > 1] = 1\n",
    "display_slices(y_pred.reshape((nv, -1, 3))[:, :, None, :])"
   ]
  },
  {
   "cell_type": "code",
   "execution_count": 508,
   "metadata": {},
   "outputs": [
    {
     "data": {
      "text/plain": [
       "0.04133098273041304"
      ]
     },
     "execution_count": 508,
     "metadata": {},
     "output_type": "execute_result"
    }
   ],
   "source": [
    "from sklearn.metrics import mean_squared_error\n",
    "\n",
    "np.sqrt(mean_squared_error(y_pred, y_val))"
   ]
  }
 ],
 "metadata": {
  "kernelspec": {
   "display_name": "deepl",
   "language": "python",
   "name": "deepl"
  },
  "language_info": {
   "codemirror_mode": {
    "name": "ipython",
    "version": 3
   },
   "file_extension": ".py",
   "mimetype": "text/x-python",
   "name": "python",
   "nbconvert_exporter": "python",
   "pygments_lexer": "ipython3",
   "version": "3.6.7"
  }
 },
 "nbformat": 4,
 "nbformat_minor": 2
}
